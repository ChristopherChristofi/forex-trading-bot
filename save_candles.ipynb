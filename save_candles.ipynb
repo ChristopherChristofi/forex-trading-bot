{
 "cells": [
  {
   "cell_type": "code",
   "execution_count": 1,
   "id": "b45051ae",
   "metadata": {},
   "outputs": [],
   "source": [
    "import requests\n",
    "import defs\n",
    "import pandas as pd"
   ]
  },
  {
   "cell_type": "code",
   "execution_count": 2,
   "id": "ec2fd338",
   "metadata": {},
   "outputs": [],
   "source": [
    "session = requests.Session()"
   ]
  },
  {
   "cell_type": "code",
   "execution_count": 3,
   "id": "e5e65f44",
   "metadata": {},
   "outputs": [],
   "source": [
    "ins_df = pd.read_pickle(\"instruments.pkl\")"
   ]
  },
  {
   "cell_type": "code",
   "execution_count": 4,
   "id": "79b34110",
   "metadata": {},
   "outputs": [],
   "source": [
    "our_curr = ['EUR', 'USD', 'GBP', 'JPY', 'CHF', 'NZD', 'CAD']"
   ]
  },
  {
   "cell_type": "code",
   "execution_count": 5,
   "id": "a7774de3",
   "metadata": {},
   "outputs": [],
   "source": [
    "def fetch_candles(pair_name, count, granularity):\n",
    "    url = f\"{defs.OANDA_URL}/instruments/{pair_name}/candles\"\n",
    "    params = dict(\n",
    "        count = count,\n",
    "        granularity = granularity,\n",
    "        price = \"MBA\"\n",
    "    )\n",
    "    response = session.get(url, params=params, headers=defs.SECURE_HEADER)\n",
    "    return response.status_code, response.json()"
   ]
  },
  {
   "cell_type": "code",
   "execution_count": 6,
   "id": "338306d2",
   "metadata": {},
   "outputs": [],
   "source": [
    "def get_candles_df(json_response):\n",
    "    \n",
    "    prices = ['mid', 'bid', 'ask']\n",
    "    ohlc = ['o', 'h', 'l', 'c']\n",
    "    \n",
    "    our_data = []\n",
    "    for candle in json_response['candles']:\n",
    "        if candle['complete'] == False: continue\n",
    "        new_dict = {}\n",
    "        new_dict['time'] = candle['time']\n",
    "        new_dict['volume'] = candle['volume']\n",
    "        for price in prices:\n",
    "            for oh in ohlc:\n",
    "                new_dict[f\"{price}_{oh}\"] = candle[price][oh]\n",
    "        our_data.append(new_dict)\n",
    "    return pd.DataFrame.from_dict(our_data)\n",
    "    "
   ]
  },
  {
   "cell_type": "code",
   "execution_count": 7,
   "id": "45f72ec1",
   "metadata": {},
   "outputs": [],
   "source": [
    "def save_file(candles_df, pair, granularity):\n",
    "    candles_df.to_pickle(f\"his_data/{pair}_{granularity}.pkl\")"
   ]
  },
  {
   "cell_type": "code",
   "execution_count": 8,
   "id": "2b5a0e21",
   "metadata": {},
   "outputs": [],
   "source": [
    "def create_data(pair, granularity):\n",
    "    code, json_data = fetch_candles(pair, 4000, granularity)\n",
    "    if code != 200:\n",
    "        print(pair, \"Error\")\n",
    "        return\n",
    "    df = get_candles_df(json_data)\n",
    "    print(f\"{pair} loaded {df.shape[0]} candles from {df.time.min()} to {df.time.max()}\")\n",
    "    save_file(df, pair, granularity)"
   ]
  },
  {
   "cell_type": "code",
   "execution_count": 11,
   "id": "7ca36b11",
   "metadata": {
    "scrolled": true
   },
   "outputs": [
    {
     "name": "stdout",
     "output_type": "stream",
     "text": [
      "EUR_USD loaded 3999 candles from 2021-01-28T23:00:00.000000000Z to 2021-09-20T12:00:00.000000000Z\n",
      "EUR_GBP loaded 3999 candles from 2021-01-28T23:00:00.000000000Z to 2021-09-20T12:00:00.000000000Z\n",
      "EUR_JPY loaded 3999 candles from 2021-01-28T22:00:00.000000000Z to 2021-09-20T12:00:00.000000000Z\n",
      "EUR_CHF loaded 3999 candles from 2021-01-28T23:00:00.000000000Z to 2021-09-20T12:00:00.000000000Z\n",
      "EUR_NZD loaded 3999 candles from 2021-01-28T23:00:00.000000000Z to 2021-09-20T12:00:00.000000000Z\n",
      "EUR_CAD loaded 3999 candles from 2021-01-28T23:00:00.000000000Z to 2021-09-20T12:00:00.000000000Z\n",
      "USD_JPY loaded 3999 candles from 2021-01-28T23:00:00.000000000Z to 2021-09-20T12:00:00.000000000Z\n",
      "USD_CHF loaded 3999 candles from 2021-01-28T23:00:00.000000000Z to 2021-09-20T12:00:00.000000000Z\n",
      "USD_CAD loaded 3999 candles from 2021-01-28T23:00:00.000000000Z to 2021-09-20T12:00:00.000000000Z\n",
      "GBP_USD loaded 3999 candles from 2021-01-28T22:00:00.000000000Z to 2021-09-20T12:00:00.000000000Z\n",
      "GBP_JPY loaded 3999 candles from 2021-01-28T23:00:00.000000000Z to 2021-09-20T12:00:00.000000000Z\n",
      "GBP_CHF loaded 3999 candles from 2021-01-28T22:00:00.000000000Z to 2021-09-20T12:00:00.000000000Z\n",
      "GBP_NZD loaded 3999 candles from 2021-01-28T23:00:00.000000000Z to 2021-09-20T12:00:00.000000000Z\n",
      "GBP_CAD loaded 3999 candles from 2021-01-28T23:00:00.000000000Z to 2021-09-20T12:00:00.000000000Z\n",
      "CHF_JPY loaded 3999 candles from 2021-01-28T23:00:00.000000000Z to 2021-09-20T12:00:00.000000000Z\n",
      "NZD_USD loaded 3999 candles from 2021-01-28T23:00:00.000000000Z to 2021-09-20T12:00:00.000000000Z\n",
      "NZD_JPY loaded 3999 candles from 2021-01-28T23:00:00.000000000Z to 2021-09-20T12:00:00.000000000Z\n",
      "NZD_CHF loaded 3999 candles from 2021-01-28T23:00:00.000000000Z to 2021-09-20T12:00:00.000000000Z\n",
      "NZD_CAD loaded 3999 candles from 2021-01-28T23:00:00.000000000Z to 2021-09-20T12:00:00.000000000Z\n",
      "CAD_JPY loaded 3999 candles from 2021-01-28T23:00:00.000000000Z to 2021-09-20T12:00:00.000000000Z\n",
      "CAD_CHF loaded 3999 candles from 2021-01-28T23:00:00.000000000Z to 2021-09-20T12:00:00.000000000Z\n",
      "Complete\n"
     ]
    }
   ],
   "source": [
    "# p1 pair1\n",
    "for p1 in our_curr:\n",
    "    for p2 in our_curr:\n",
    "        pair = f\"{p1}_{p2}\"\n",
    "        if pair in ins_df.name.unique():\n",
    "            create_data(pair, \"H1\")\n",
    "print(\"Complete\")"
   ]
  },
  {
   "cell_type": "code",
   "execution_count": null,
   "id": "0ed67e01",
   "metadata": {},
   "outputs": [],
   "source": []
  }
 ],
 "metadata": {
  "kernelspec": {
   "display_name": "Python 3 (ipykernel)",
   "language": "python",
   "name": "python3"
  },
  "language_info": {
   "codemirror_mode": {
    "name": "ipython",
    "version": 3
   },
   "file_extension": ".py",
   "mimetype": "text/x-python",
   "name": "python",
   "nbconvert_exporter": "python",
   "pygments_lexer": "ipython3",
   "version": "3.9.1"
  }
 },
 "nbformat": 4,
 "nbformat_minor": 5
}
