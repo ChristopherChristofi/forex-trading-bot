{
 "cells": [
  {
   "cell_type": "code",
   "execution_count": 1,
   "id": "b45051ae",
   "metadata": {},
   "outputs": [],
   "source": [
    "import requests\n",
    "import defs\n",
    "import pandas as pd"
   ]
  },
  {
   "cell_type": "code",
   "execution_count": 2,
   "id": "ec2fd338",
   "metadata": {},
   "outputs": [],
   "source": [
    "session = requests.Session()"
   ]
  },
  {
   "cell_type": "code",
   "execution_count": 3,
   "id": "e5e65f44",
   "metadata": {},
   "outputs": [],
   "source": [
    "ins_df = pd.read_pickle(\"instruments.pkl\")"
   ]
  },
  {
   "cell_type": "code",
   "execution_count": 4,
   "id": "79b34110",
   "metadata": {},
   "outputs": [],
   "source": [
    "our_curr = ['EUR', 'USD', 'GBP', 'JPY', 'CHF', 'NZD', 'CAD']"
   ]
  },
  {
   "cell_type": "code",
   "execution_count": 19,
   "id": "a7774de3",
   "metadata": {},
   "outputs": [],
   "source": [
    "def fetch_candles(pair_name, count, granularity):\n",
    "    url = f\"{defs.OANDA_URL}/instruments/{pair_name}/candles\"\n",
    "    params = dict(\n",
    "        count = count,\n",
    "        granularity = granularity,\n",
    "        price = \"MBA\"\n",
    "    )\n",
    "    response = session.get(url, params=params, headers=defs.SECURE_HEADER)\n",
    "    return response.status_code, response.json()"
   ]
  },
  {
   "cell_type": "code",
   "execution_count": 20,
   "id": "338306d2",
   "metadata": {},
   "outputs": [],
   "source": [
    "def get_candles_df(json_response):\n",
    "    \n",
    "    prices = ['mid', 'bid', 'ask']\n",
    "    ohlc = ['o', 'h', 'l', 'c']\n",
    "    \n",
    "    our_data = []\n",
    "    for candle in json_response['candles']:\n",
    "        if candle['complete'] == False: continue\n",
    "        new_dict = {}\n",
    "        new_dict['time'] = candle['time']\n",
    "        new_dict['volume'] = candle['volume']\n",
    "        for price in prices:\n",
    "            for oh in ohlc:\n",
    "                new_dict[f\"{price}_{oh}\"] = candle[price][oh]\n",
    "        our_data.append(new_dict)\n",
    "    return pd.DataFrame.from_dict(our_data)\n",
    "    "
   ]
  },
  {
   "cell_type": "code",
   "execution_count": 24,
   "id": "45f72ec1",
   "metadata": {},
   "outputs": [],
   "source": [
    "def save_file(candles_df, pair, granularity):\n",
    "    candles_df.to_pickle(f\"his_data/{pair}_{granularity}.pkl\")"
   ]
  },
  {
   "cell_type": "code",
   "execution_count": 25,
   "id": "2b5a0e21",
   "metadata": {},
   "outputs": [],
   "source": [
    "def create_data(pair, granularity):\n",
    "    code, json_data = fetch_candles(pair, 4000, granularity)\n",
    "    if code != 200:\n",
    "        print(pair, \"Error\")\n",
    "        return\n",
    "    df = get_candles_df(json_data)\n",
    "    print(f\"{pair} loaded {df.shape[0]} candles from {df.time.min()} to {df.time.max()}\")\n",
    "    save_file(df, pair, granularity)"
   ]
  },
  {
   "cell_type": "code",
   "execution_count": 26,
   "id": "7ca36b11",
   "metadata": {},
   "outputs": [
    {
     "name": "stdout",
     "output_type": "stream",
     "text": [
      "EUR_USD loaded 3999 candles from 2021-01-22T10:00:00.000000000Z to 2021-09-13T23:00:00.000000000Z\n",
      "EUR_GBP loaded 3999 candles from 2021-01-22T10:00:00.000000000Z to 2021-09-13T23:00:00.000000000Z\n",
      "EUR_JPY loaded 3999 candles from 2021-01-22T09:00:00.000000000Z to 2021-09-13T23:00:00.000000000Z\n",
      "EUR_CHF loaded 3999 candles from 2021-01-22T10:00:00.000000000Z to 2021-09-13T23:00:00.000000000Z\n",
      "EUR_NZD loaded 3999 candles from 2021-01-22T10:00:00.000000000Z to 2021-09-13T23:00:00.000000000Z\n",
      "EUR_CAD loaded 3999 candles from 2021-01-22T10:00:00.000000000Z to 2021-09-13T23:00:00.000000000Z\n",
      "USD_JPY loaded 3999 candles from 2021-01-22T10:00:00.000000000Z to 2021-09-13T23:00:00.000000000Z\n",
      "USD_CHF loaded 3999 candles from 2021-01-22T10:00:00.000000000Z to 2021-09-13T23:00:00.000000000Z\n",
      "USD_CAD loaded 3999 candles from 2021-01-22T10:00:00.000000000Z to 2021-09-13T23:00:00.000000000Z\n",
      "GBP_USD loaded 3999 candles from 2021-01-22T09:00:00.000000000Z to 2021-09-13T23:00:00.000000000Z\n",
      "GBP_JPY loaded 3999 candles from 2021-01-22T10:00:00.000000000Z to 2021-09-13T23:00:00.000000000Z\n",
      "GBP_CHF loaded 3999 candles from 2021-01-22T09:00:00.000000000Z to 2021-09-13T23:00:00.000000000Z\n",
      "GBP_NZD loaded 3999 candles from 2021-01-22T10:00:00.000000000Z to 2021-09-13T23:00:00.000000000Z\n",
      "GBP_CAD loaded 3999 candles from 2021-01-22T10:00:00.000000000Z to 2021-09-13T23:00:00.000000000Z\n",
      "CHF_JPY loaded 3999 candles from 2021-01-22T10:00:00.000000000Z to 2021-09-13T23:00:00.000000000Z\n",
      "NZD_USD loaded 3999 candles from 2021-01-22T10:00:00.000000000Z to 2021-09-13T23:00:00.000000000Z\n",
      "NZD_JPY loaded 3999 candles from 2021-01-22T10:00:00.000000000Z to 2021-09-13T23:00:00.000000000Z\n",
      "NZD_CHF loaded 3999 candles from 2021-01-22T10:00:00.000000000Z to 2021-09-13T23:00:00.000000000Z\n",
      "NZD_CAD loaded 3999 candles from 2021-01-22T10:00:00.000000000Z to 2021-09-13T23:00:00.000000000Z\n",
      "CAD_JPY loaded 3999 candles from 2021-01-22T10:00:00.000000000Z to 2021-09-13T23:00:00.000000000Z\n",
      "CAD_CHF loaded 3999 candles from 2021-01-22T10:00:00.000000000Z to 2021-09-13T23:00:00.000000000Z\n"
     ]
    }
   ],
   "source": [
    "# p1 pair1\n",
    "for p1 in our_curr:\n",
    "    for p2 in our_curr:\n",
    "        pair = f\"{p1}_{p2}\"\n",
    "        if pair in ins_df.name.unique():\n",
    "            create_data(pair, \"H1\")"
   ]
  },
  {
   "cell_type": "code",
   "execution_count": 11,
   "id": "08830c26",
   "metadata": {},
   "outputs": [
    {
     "data": {
      "text/plain": [
       "array(['USB05Y_USD', 'ZAR_JPY', 'HK33_HKD', 'EUR_HUF', 'FR40_EUR',\n",
       "       'EUR_DKK', 'XAU_CHF', 'XPD_USD', 'BCO_USD', 'IN50_USD',\n",
       "       'NATGAS_USD', 'USD_MXN', 'GBP_USD', 'CAD_CHF', 'XAG_HKD',\n",
       "       'EUR_GBP', 'XAG_SGD', 'JP225_USD', 'XAG_CAD', 'CN50_USD',\n",
       "       'EU50_EUR', 'GBP_CHF', 'USD_THB', 'USD_ZAR', 'HKD_JPY', 'CHF_ZAR',\n",
       "       'XCU_USD', 'CAD_JPY', 'XAU_HKD', 'EUR_HKD', 'AUD_HKD', 'XAU_XAG',\n",
       "       'EUR_NZD', 'XAG_AUD', 'WTICO_USD', 'XAG_NZD', 'SGD_CHF', 'AUD_SGD',\n",
       "       'TWIX_USD', 'EUR_JPY', 'USD_CHF', 'USD_TRY', 'GBP_JPY', 'EUR_CZK',\n",
       "       'EUR_TRY', 'USD_JPY', 'GBP_ZAR', 'SGD_JPY', 'XAU_SGD', 'USD_NOK',\n",
       "       'DE10YB_EUR', 'USB02Y_USD', 'TRY_JPY', 'USD_DKK', 'CHF_JPY',\n",
       "       'EUR_PLN', 'SUGAR_USD', 'AUD_CAD', 'USD_HKD', 'US2000_USD',\n",
       "       'USB10Y_USD', 'GBP_NZD', 'XAU_JPY', 'XAG_GBP', 'CAD_SGD',\n",
       "       'XAU_NZD', 'NZD_USD', 'XAU_CAD', 'XAG_EUR', 'CORN_USD', 'XAG_USD',\n",
       "       'AUD_NZD', 'UK100_GBP', 'CHF_HKD', 'USD_INR', 'USD_CAD', 'USD_CNH',\n",
       "       'XAU_GBP', 'XAG_JPY', 'USD_CZK', 'NAS100_USD', 'NZD_CHF',\n",
       "       'SPX500_USD', 'NZD_SGD', 'NZD_HKD', 'AUD_CHF', 'USD_SEK',\n",
       "       'GBP_SGD', 'AUD_JPY', 'EUR_ZAR', 'EUR_AUD', 'NZD_JPY', 'GBP_HKD',\n",
       "       'USD_SGD', 'EUR_SEK', 'WHEAT_USD', 'XAU_AUD', 'UK10YB_GBP',\n",
       "       'EUR_CHF', 'NL25_EUR', 'EUR_CAD', 'USD_HUF', 'USB30Y_USD',\n",
       "       'NZD_CAD', 'EUR_SGD', 'AUD_USD', 'XAG_CHF', 'SOYBN_USD', 'EUR_USD',\n",
       "       'SG30_SGD', 'GBP_AUD', 'USD_PLN', 'AU200_AUD', 'CAD_HKD',\n",
       "       'US30_USD', 'GBP_CAD', 'GBP_PLN', 'DE30_EUR', 'EUR_NOK', 'XAU_EUR',\n",
       "       'XPT_USD', 'XAU_USD'], dtype=object)"
      ]
     },
     "execution_count": 11,
     "metadata": {},
     "output_type": "execute_result"
    }
   ],
   "source": []
  },
  {
   "cell_type": "code",
   "execution_count": null,
   "id": "0ed67e01",
   "metadata": {},
   "outputs": [],
   "source": []
  }
 ],
 "metadata": {
  "kernelspec": {
   "display_name": "Python 3 (ipykernel)",
   "language": "python",
   "name": "python3"
  },
  "language_info": {
   "codemirror_mode": {
    "name": "ipython",
    "version": 3
   },
   "file_extension": ".py",
   "mimetype": "text/x-python",
   "name": "python",
   "nbconvert_exporter": "python",
   "pygments_lexer": "ipython3",
   "version": "3.9.6"
  }
 },
 "nbformat": 4,
 "nbformat_minor": 5
}
